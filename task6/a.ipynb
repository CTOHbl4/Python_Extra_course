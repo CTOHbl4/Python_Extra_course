{
 "cells": [
  {
   "cell_type": "code",
   "execution_count": 11,
   "metadata": {},
   "outputs": [],
   "source": [
    "def check_nonprime(k):\n",
    "    if k % 2 == 0 and k > 2:\n",
    "        return True\n",
    "    for i in range(3, int(k**0.5)+1, 2):\n",
    "        if k % i == 0:\n",
    "            return True\n",
    "    return False\n",
    "\n",
    "\n",
    "def nonprime(n=0):\n",
    "    k = n + 1\n",
    "    if k == 1:\n",
    "        yield k\n",
    "        k += 1\n",
    "    while k:\n",
    "        if check_nonprime(k):\n",
    "            yield k\n",
    "        k += 1"
   ]
  },
  {
   "cell_type": "code",
   "execution_count": 7,
   "metadata": {},
   "outputs": [
    {
     "name": "stdout",
     "output_type": "stream",
     "text": [
      "1 False\n",
      "2 False\n",
      "3 False\n",
      "4 True\n",
      "5 False\n",
      "6 True\n",
      "7 False\n",
      "8 True\n",
      "9 True\n",
      "10 True\n",
      "11 False\n",
      "12 True\n",
      "13 False\n",
      "14 True\n"
     ]
    }
   ],
   "source": [
    "for i in range(1, 15):\n",
    "    print(i, check_nonprime(i))"
   ]
  },
  {
   "cell_type": "code",
   "execution_count": 12,
   "metadata": {},
   "outputs": [
    {
     "name": "stdout",
     "output_type": "stream",
     "text": [
      "18 20 21 22 24 25 26 27 28 30 32 33 34 35 36 38 39 40 42 44\n"
     ]
    }
   ],
   "source": [
    "print(*dict(zip(nonprime(16), range(20))))"
   ]
  },
  {
   "cell_type": "markdown",
   "metadata": {},
   "source": [
    "18 20 21 22 24 25 26 27 28 30 32 33 34 35 36 38 39 40 42 44"
   ]
  },
  {
   "cell_type": "code",
   "execution_count": 31,
   "metadata": {},
   "outputs": [],
   "source": [
    "def turtle(coord, direction):\n",
    "    move = yield coord\n",
    "    c = list(coord)\n",
    "    while move:\n",
    "        if move == \"f\":\n",
    "            if direction == 0:\n",
    "                c[0] += 1\n",
    "            if direction == 1:\n",
    "                c[1] += 1\n",
    "            if direction == 2:\n",
    "                c[0] -= 1\n",
    "            if direction == 3:\n",
    "                c[1] -= 1\n",
    "            coord = tuple(c)\n",
    "            move = yield coord\n",
    "        elif move == \"l\":\n",
    "            direction = (direction + 1) % 4\n",
    "            move = yield coord\n",
    "        elif move == \"r\":\n",
    "            direction = (direction - 1) % 4\n",
    "            move = yield coord"
   ]
  },
  {
   "cell_type": "code",
   "execution_count": 26,
   "metadata": {},
   "outputs": [
    {
     "data": {
      "text/plain": [
       "3"
      ]
     },
     "execution_count": 26,
     "metadata": {},
     "output_type": "execute_result"
    }
   ],
   "source": [
    "(-1) % 4"
   ]
  },
  {
   "cell_type": "code",
   "execution_count": 32,
   "metadata": {},
   "outputs": [
    {
     "name": "stdout",
     "output_type": "stream",
     "text": [
      "1 0\n",
      "1 0\n",
      "1 1\n",
      "1 1\n",
      "2 1\n",
      "3 1\n",
      "3 1\n",
      "3 0\n",
      "3 -1\n",
      "3 -1\n"
     ]
    }
   ],
   "source": [
    "robo = turtle((0, 0), 0)\n",
    "start = next(robo)\n",
    "for c in \"flfrffrffr\":\n",
    "    print(*robo.send(c))"
   ]
  },
  {
   "cell_type": "code",
   "execution_count": 33,
   "metadata": {},
   "outputs": [],
   "source": [
    "def seesaw(it):\n",
    "    even = []\n",
    "    odd = []\n",
    "\n",
    "    for i in it:\n",
    "        if i % 2 == 0:\n",
    "            even.append(i)\n",
    "        else:\n",
    "            odd.append(i)\n",
    "    \n",
    "    even = even[::-1]\n",
    "    odd = odd[::-1]\n",
    "    while even and odd:\n",
    "        yield even.pop()\n",
    "        yield odd.pop()\n",
    "\n",
    "    while even:\n",
    "        yield even.pop()\n",
    "    while odd:\n",
    "        yield odd.pop()\n"
   ]
  },
  {
   "cell_type": "code",
   "execution_count": 34,
   "metadata": {},
   "outputs": [
    {
     "name": "stdout",
     "output_type": "stream",
     "text": [
      "0 1 2 1 4 3 6 3 8 5 5 7 7\n"
     ]
    }
   ],
   "source": [
    "print(*seesaw(i//3 for i in range(1, 27, 2)))"
   ]
  },
  {
   "cell_type": "markdown",
   "metadata": {},
   "source": [
    "0 1 2 1 4 3 6 3 8 5 5 7 7"
   ]
  },
  {
   "cell_type": "code",
   "execution_count": 87,
   "metadata": {},
   "outputs": [],
   "source": [
    "from itertools import cycle\n",
    "\n",
    "def speed(path, stops, times):\n",
    "    pth = iter(path)\n",
    "    tms = iter(times)\n",
    "    stps = cycle(stops)\n",
    "    while 1:\n",
    "        sm = 0\n",
    "        i = next(stps)\n",
    "        for _ in range(i):\n",
    "            sm += next(pth, 0)\n",
    "        t = next(tms, 0)\n",
    "        if sm == 0 or t == 0:\n",
    "            break\n",
    "        sm /= t\n",
    "        yield sm"
   ]
  },
  {
   "cell_type": "code",
   "execution_count": 88,
   "metadata": {},
   "outputs": [
    {
     "name": "stdout",
     "output_type": "stream",
     "text": [
      "9.0 5.5 4.0 1.125 11.0 8.0 2.25 1.375 7.0\n"
     ]
    }
   ],
   "source": [
    "print(*list(speed([2, 3, 4] * 11, [3, 4, 5], [1, 2, 4, 8] * 3)))"
   ]
  },
  {
   "cell_type": "code",
   "execution_count": null,
   "metadata": {},
   "outputs": [],
   "source": []
  }
 ],
 "metadata": {
  "kernelspec": {
   "display_name": ".venv",
   "language": "python",
   "name": ".venv"
  },
  "language_info": {
   "codemirror_mode": {
    "name": "ipython",
    "version": 3
   },
   "file_extension": ".py",
   "mimetype": "text/x-python",
   "name": "python",
   "nbconvert_exporter": "python",
   "pygments_lexer": "ipython3",
   "version": "3.12.4"
  }
 },
 "nbformat": 4,
 "nbformat_minor": 2
}
